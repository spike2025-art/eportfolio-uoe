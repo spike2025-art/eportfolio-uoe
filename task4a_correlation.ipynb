{
 "cells": [
  {
   "cell_type": "markdown",
   "id": "34653c8b",
   "metadata": {},
   "source": [
    "# Task A: Correlation Between Population and GDP (2001–2020)\n",
    "Pre-process data, compute average values, and evaluate the Pearson correlation coefficient."
   ]
  },
  {
   "cell_type": "code",
   "execution_count": null,
   "id": "6e71a048",
   "metadata": {},
   "outputs": [],
   "source": [
    "import pandas as pd\n",
    "import numpy as np\n",
    "from scipy.stats import pearsonr\n",
    "import matplotlib.pyplot as plt"
   ]
  },
  {
   "cell_type": "code",
   "execution_count": null,
   "id": "54b35af0",
   "metadata": {},
   "outputs": [],
   "source": [
    "# Load and prepare data from GitHub\n",
    "gdp_url = \"https://raw.githubusercontent.com/spike2025-art/eportfolio-uoe/main/Unit04%20Global_GDP.csv\"\n",
    "pop_url = \"https://raw.githubusercontent.com/spike2025-art/eportfolio-uoe/main/Unit04%20Global_Population.csv\"\n",
    "\n",
    "gdp_df = pd.read_csv(gdp_url)\n",
    "pop_df = pd.read_csv(pop_url)\n",
    "year_range = [str(year) for year in range(2001, 2021)]\n",
    "\n",
    "# Convert year columns to numeric to ensure calculation compatibility\n",
    "for year in year_range:\n",
    "    gdp_df[year] = pd.to_numeric(gdp_df[year], errors='coerce')\n",
    "    pop_df[year] = pd.to_numeric(pop_df[year], errors='coerce')\n",
    "\n",
    "# Fill missing values row-wise\n",
    "gdp_df[year_range] = gdp_df[year_range].apply(lambda row: row.fillna(row.mean()), axis=1)\n",
    "pop_df[year_range] = pop_df[year_range].apply(lambda row: row.fillna(row.mean()), axis=1)\n",
    "\n",
    "# Compute means\n",
    "gdp_df['Mean_GDP_per_capita'] = gdp_df[year_range].mean(axis=1)\n",
    "pop_df['Mean_Population'] = pop_df[year_range].mean(axis=1)"
   ]
  },
  {
   "cell_type": "code",
   "execution_count": null,
   "id": "1822fd52",
   "metadata": {},
   "outputs": [],
   "source": [
    "merged = pd.merge(pop_df[['Country Name', 'Mean_Population']],\n",
    "                  gdp_df[['Country Name', 'Mean_GDP_per_capita']],\n",
    "                  on='Country Name')\n",
    "merged = merged.replace([np.inf, -np.inf], np.nan).dropna()\n",
    "\n",
    "corr, _ = pearsonr(merged['Mean_Population'], merged['Mean_GDP_per_capita'])\n",
    "print(f'Pearson Correlation Coefficient: {corr:.4f}')"
   ]
  },
  {
   "cell_type": "code",
   "execution_count": null,
   "id": "0cd30b7b",
   "metadata": {},
   "outputs": [],
   "source": [
    "plt.figure(figsize=(10, 6))\n",
    "plt.scatter(merged['Mean_Population'], merged['Mean_GDP_per_capita'], alpha=0.6)\n",
    "plt.xlabel('Mean Population (2001–2020)')\n",
    "plt.ylabel('Mean GDP per Capita (2001–2020)')\n",
    "plt.title('Task A: Population vs GDP Correlation')\n",
    "plt.grid(True)\n",
    "plt.tight_layout()\n",
    "plt.show()"
   ]
  }
 ],
 "metadata": {},
 "nbformat": 4,
 "nbformat_minor": 5
}
