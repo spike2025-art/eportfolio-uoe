{
 "cells": [
  {
   "cell_type": "markdown",
   "id": "8b89afc8",
   "metadata": {},
   "source": [
    "# Task A: Correlation Between Population and GDP (2001–2020)\n",
    "Pre-process data, compute average values, and evaluate the Pearson correlation coefficient."
   ]
  },
  {
   "cell_type": "code",
   "execution_count": null,
   "id": "5b4a08ab",
   "metadata": {},
   "outputs": [],
   "source": [
    "import pandas as pd\n",
    "import numpy as np\n",
    "from scipy.stats import pearsonr\n",
    "import matplotlib.pyplot as plt\n",
    "from sklearn.linear_model import LinearRegression"
   ]
  },
  {
   "cell_type": "code",
   "execution_count": null,
   "id": "d672d54f",
   "metadata": {},
   "outputs": [],
   "source": [
     "# Load data directly from GitHub",
     "gdp_url = \"https://raw.githubusercontent.com/spike2025-art/eportfolio-uoe/main/Unit04%20Global_GDP.csv\"",
     "pop_url = \"https://raw.githubusercontent.com/spike2025-art/eportfolio-uoe/main/Unit04%20Global_Population.csv\"",
     "",
     "gdp_df = pd.read_csv(gdp_url)",
     "pop_df = pd.read_csv(pop_url)",
     "year_range = [str(year) for year in range(2001, 2021)]"
   ]
 },
  {
   "cell_type": "code",
   "execution_count": null,
   "id": "72cd3144",
   "metadata": {},
   "outputs": [],
   "source": [
    "merged = pd.merge(pop_df[['Country Name', 'Mean_Population']],\n",
    "                  gdp_df[['Country Name', 'Mean_GDP_per_capita']],\n",
    "                  on='Country Name')\n",
    "merged = merged.replace([np.inf, -np.inf], np.nan).dropna()\n",
    "\n",
    "corr, _ = pearsonr(merged['Mean_Population'], merged['Mean_GDP_per_capita'])\n",
    "print(f'Pearson Correlation Coefficient: {corr:.4f}')"
   ]
  },
  {
   "cell_type": "code",
   "execution_count": null,
   "id": "9871b621",
   "metadata": {},
   "outputs": [],
   "source": [
    "plt.figure(figsize=(10, 6))\n",
    "plt.scatter(merged['Mean_Population'], merged['Mean_GDP_per_capita'], alpha=0.6)\n",
    "plt.xlabel('Mean Population (2001–2020)')\n",
    "plt.ylabel('Mean GDP per Capita (2001–2020)')\n",
    "plt.title('Task A: Population vs GDP Correlation')\n",
    "plt.grid(True)\n",
    "plt.tight_layout()\n",
    "plt.show()"
   ]
  }
 ],
 "metadata": {},
 "nbformat": 4,
 "nbformat_minor": 5
}
