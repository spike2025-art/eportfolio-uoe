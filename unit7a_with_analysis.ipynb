{
 "cells": [
  {
   "cell_type": "markdown",
   "id": "005b18f9",
   "metadata": {},
   "source": [
    "# 🧪 Simple Perceptron with Synthetic Data\n",
    "This experiment uses a simple Perceptron to learn a linearly separable binary classification task based on AND-like logic."
   ]
  },
  {
   "cell_type": "code",
   "execution_count": null,
   "id": "474d91a9",
   "metadata": {},
   "outputs": [],
   "source": [
    "import numpy as np\n",
    "from sklearn.linear_model import Perceptron\n",
    "from sklearn.model_selection import train_test_split\n",
    "from sklearn.metrics import accuracy_score, classification_report, confusion_matrix\n",
    "\n",
    "# Data\n",
    "X = np.random.randint(0, 2, (100, 2))\n",
    "y = np.array([1 if x[0] and x[1] else 0 for x in X])\n",
    "X_train, X_test, y_train, y_test = train_test_split(X, y, test_size=0.3)\n",
    "\n",
    "# Model\n",
    "model = Perceptron(max_iter=1000)\n",
    "model.fit(X_train, y_train)\n",
    "y_pred = model.predict(X_test)\n",
    "\n",
    "print(\"Accuracy:\", accuracy_score(y_test, y_pred))\n",
    "print(\"\\nClassification Report:\\n\", classification_report(y_test, y_pred))\n",
    "print(\"\\nConfusion Matrix:\\n\", confusion_matrix(y_test, y_pred))"
   ]
  }
 ],
 "metadata": {},
 "nbformat": 4,
 "nbformat_minor": 5
}
