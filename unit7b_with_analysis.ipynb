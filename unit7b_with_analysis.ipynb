{
 "cells": [
  {
   "cell_type": "markdown",
   "id": "0157ca9f",
   "metadata": {},
   "source": [
    "# 🧠 Perceptron on AND Operator\n",
    "This model directly learns AND logic using a perceptron. The dataset is synthetic but binary and linearly separable."
   ]
  },
  {
   "cell_type": "code",
   "execution_count": null,
   "id": "0078f70b",
   "metadata": {},
   "outputs": [],
   "source": [
    "import numpy as np\n",
    "from sklearn.linear_model import Perceptron\n",
    "from sklearn.metrics import classification_report\n",
    "\n",
    "# AND gate data\n",
    "X = np.array([[0,0], [0,1], [1,0], [1,1]] * 25)\n",
    "y = np.array([0, 0, 0, 1] * 25)\n",
    "\n",
    "model = Perceptron(max_iter=1000)\n",
    "model.fit(X, y)\n",
    "y_pred = model.predict(X)\n",
    "\n",
    "print(\"Classification Report:\\n\", classification_report(y, y_pred))"
   ]
  }
 ],
 "metadata": {},
 "nbformat": 4,
 "nbformat_minor": 5
}
