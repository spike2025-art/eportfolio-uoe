{
  "cells": [
    {
      "cell_type": "markdown",
      "metadata": {
        "id": "view-in-github",
        "colab_type": "text"
      },
      "source": [
        "<a href=\"https://colab.research.google.com/github/spike2025-art/eportfolio-uoe/blob/main/unit11_model_performance_measurement_1.ipynb\" target=\"_parent\"><img src=\"https://colab.research.google.com/assets/colab-badge.svg\" alt=\"Open In Colab\"/></a>"
      ]
    },
    {
      "cell_type": "markdown",
      "id": "f17ad88c",
      "metadata": {
        "id": "f17ad88c"
      },
      "source": [
        "### Model performance measurement\n",
        "\n",
        "#### Confusion Matrix"
      ]
    },
    {
      "cell_type": "code",
      "execution_count": null,
      "id": "5596b8ab",
      "metadata": {
        "id": "5596b8ab"
      },
      "outputs": [],
      "source": [
        "from sklearn.metrics import confusion_matrix"
      ]
    },
    {
      "cell_type": "code",
      "execution_count": null,
      "id": "c7f6df26",
      "metadata": {
        "id": "c7f6df26",
        "outputId": "3dd7fa64-41d2-49fb-9851-d95d69d033d4"
      },
      "outputs": [
        {
          "data": {
            "text/plain": [
              "(0, 2, 1, 1)"
            ]
          },
          "execution_count": 2,
          "metadata": {},
          "output_type": "execute_result"
        }
      ],
      "source": [
        "tn, fp, fn, tp = confusion_matrix([0, 1, 0, 1], [1, 1, 1, 0]).ravel()\n",
        "(tn, fp, fn, tp)"
      ]
    },
    {
      "cell_type": "code",
      "execution_count": null,
      "id": "17da5ac8",
      "metadata": {
        "colab": {
          "base_uri": "https://localhost:8080/",
          "height": 455
        },
        "id": "17da5ac8",
        "outputId": "69cee529-169c-48f8-a1c2-3edb383e4ad2"
      },
      "outputs": [
        {
          "output_type": "display_data",
          "data": {
            "text/plain": [
              "<Figure size 640x480 with 2 Axes>"
            ],
            "image/png": "[encoded data removed]"
          },
          "metadata": {}
        }
      ],
      "source": [
        "import matplotlib.pyplot as plt\n",
        "from sklearn.datasets import make_classification\n",
        "from sklearn.metrics import confusion_matrix, ConfusionMatrixDisplay\n",
        "from sklearn.model_selection import train_test_split\n",
        "from sklearn.svm import SVC\n",
        "X, y = make_classification(random_state=0)\n",
        "X_train, X_test, y_train, y_test = train_test_split(X, y,\n",
        "                                                    random_state=0)\n",
        "clf = SVC(random_state=0)\n",
        "clf.fit(X_train, y_train)\n",
        "#SVC(random_state=0)\n",
        "\n",
        "SVC(kernel='rbf', C=1.0, gamma=0.01, probability=True)\n",
        "predictions = clf.predict(X_test)\n",
        "cm = confusion_matrix(y_test, predictions, labels=clf.classes_)\n",
        "disp = ConfusionMatrixDisplay(confusion_matrix=cm,\n",
        "                               display_labels=clf.classes_)\n",
        "disp.plot()\n",
        "\n",
        "plt.show()\n"
      ]
    },
    {
      "cell_type": "markdown",
      "id": "c6d58cc6",
      "metadata": {
        "id": "c6d58cc6"
      },
      "source": [
        "#### F1, Accuracy, Recall, AUC and Precision scores"
      ]
    },
    {
      "cell_type": "code",
      "execution_count": null,
      "id": "1f382373",
      "metadata": {
        "colab": {
          "base_uri": "https://localhost:8080/"
        },
        "id": "1f382373",
        "outputId": "2675462e-82fa-4427-b834-eaa78de75fdb"
      },
      "outputs": [
        {
          "output_type": "stream",
          "name": "stdout",
          "text": [
            "Macro f1 score: 0.26666666666666666\n",
            "Micro F1: 0.3333333333333333\n",
            "Weighted Average F1: 0.26666666666666666\n",
            "F1 No Average: [0.8 0.  0. ]\n",
            "F1 No Average: [0.66666667 1.         0.66666667]\n"
          ]
        }
      ],
      "source": [
        "from sklearn.metrics import f1_score\n",
        "\n",
        "y_true = [0, 1, 2, 0, 1, 2]\n",
        "y_pred = [0, 2, 1, 0, 0, 1]\n",
        "\n",
        "print(f\"Macro f1 score: {f1_score(y_true, y_pred, average='macro')}\")\n",
        "\n",
        "print(f\"Micro F1: {f1_score(y_true, y_pred, average='micro')}\")\n",
        "\n",
        "print(f\"Weighted Average F1: {f1_score(y_true, y_pred, average='weighted')}\")\n",
        "\n",
        "print(f\"F1 No Average: {f1_score(y_true, y_pred, average=None)}\")\n",
        "\n",
        "y_true = [0, 0, 0, 0, 0, 0]\n",
        "y_pred = [0, 0, 0, 0, 0, 0]\n",
        "f1_score(y_true, y_pred, zero_division=1)\n",
        "\n",
        "# multilabel classification\n",
        "y_true = [[0, 0, 0], [1, 1, 1], [0, 1, 1]]\n",
        "y_pred = [[0, 0, 0], [1, 1, 1], [1, 1, 0]]\n",
        "print(f\"F1 No Average: {f1_score(y_true, y_pred, average=None)}\")\n"
      ]
    },
    {
      "cell_type": "code",
      "execution_count": null,
      "id": "1b675e75",
      "metadata": {
        "colab": {
          "base_uri": "https://localhost:8080/"
        },
        "id": "1b675e75",
        "outputId": "356a81d1-be3a-492b-cf88-d22095d682a4"
      },
      "outputs": [
        {
          "output_type": "execute_result",
          "data": {
            "text/plain": [
              "0.5"
            ]
          },
          "metadata": {},
          "execution_count": 9
        }
      ],
      "source": [
        " from sklearn.metrics import accuracy_score\n",
        "y_pred = [0, 2, 1, 3]\n",
        "y_true = [0, 1, 2, 3]\n",
        "accuracy_score(y_true, y_pred)"
      ]
    },
    {
      "cell_type": "code",
      "execution_count": null,
      "id": "5f1747ba",
      "metadata": {
        "colab": {
          "base_uri": "https://localhost:8080/"
        },
        "id": "5f1747ba",
        "outputId": "074d5685-18ee-4cb7-9974-66855ded7476"
      },
      "outputs": [
        {
          "output_type": "execute_result",
          "data": {
            "text/plain": [
              "0.2222222222222222"
            ]
          },
          "metadata": {},
          "execution_count": 10
        }
      ],
      "source": [
        "from sklearn.metrics import precision_score\n",
        "y_true = [0, 1, 2, 0, 1, 2]\n",
        "y_pred = [0, 2, 1, 0, 0, 1]\n",
        "precision_score(y_true, y_pred, average='macro')"
      ]
    },
    {
      "cell_type": "code",
      "execution_count": null,
      "id": "81352d41",
      "metadata": {
        "colab": {
          "base_uri": "https://localhost:8080/"
        },
        "id": "81352d41",
        "outputId": "1b6ba647-be14-4b55-d06d-4bb7e71246bc"
      },
      "outputs": [
        {
          "output_type": "execute_result",
          "data": {
            "text/plain": [
              "0.3333333333333333"
            ]
          },
          "metadata": {},
          "execution_count": 11
        }
      ],
      "source": [
        "from sklearn.metrics import recall_score\n",
        "y_true = [0, 1, 2, 0, 1, 2]\n",
        "y_pred = [0, 2, 1, 0, 0, 1]\n",
        "recall_score(y_true, y_pred, average='macro')"
      ]
    },
    {
      "cell_type": "code",
      "execution_count": null,
      "id": "29cb7e3c",
      "metadata": {
        "colab": {
          "base_uri": "https://localhost:8080/"
        },
        "id": "29cb7e3c",
        "outputId": "77e2af20-003d-43c8-f003-e6e291f34471"
      },
      "outputs": [
        {
          "output_type": "stream",
          "name": "stdout",
          "text": [
            "              precision    recall  f1-score   support\n",
            "\n",
            "     class 0       0.50      1.00      0.67         1\n",
            "     class 1       0.00      0.00      0.00         1\n",
            "     class 2       1.00      0.67      0.80         3\n",
            "\n",
            "    accuracy                           0.60         5\n",
            "   macro avg       0.50      0.56      0.49         5\n",
            "weighted avg       0.70      0.60      0.61         5\n",
            "\n"
          ]
        }
      ],
      "source": [
        "from sklearn.metrics import classification_report\n",
        "y_true = [0, 1, 2, 2, 2]\n",
        "y_pred = [0, 0, 2, 2, 1]\n",
        "target_names = ['class 0', 'class 1', 'class 2']\n",
        "print(classification_report(y_true, y_pred, target_names=target_names))"
      ]
    },
    {
      "cell_type": "code",
      "execution_count": null,
      "id": "8342b604",
      "metadata": {
        "colab": {
          "base_uri": "https://localhost:8080/"
        },
        "id": "8342b604",
        "outputId": "a814001a-edd8-408e-d4c0-06c0976d9736"
      },
      "outputs": [
        {
          "output_type": "execute_result",
          "data": {
            "text/plain": [
              "np.float64(0.994767718408118)"
            ]
          },
          "metadata": {},
          "execution_count": 13
        }
      ],
      "source": [
        "from sklearn.datasets import load_breast_cancer\n",
        "from sklearn.linear_model import LogisticRegression\n",
        "from sklearn.metrics import roc_auc_score\n",
        "X, y = load_breast_cancer(return_X_y=True)\n",
        "clf = LogisticRegression(solver=\"liblinear\", random_state=0).fit(X, y)\n",
        "roc_auc_score(y, clf.predict_proba(X)[:, 1])\n"
      ]
    },
    {
      "cell_type": "code",
      "execution_count": null,
      "id": "801701a0",
      "metadata": {
        "colab": {
          "base_uri": "https://localhost:8080/"
        },
        "id": "801701a0",
        "outputId": "5150f6aa-94c5-4187-f4c2-33b9647577ea"
      },
      "outputs": [
        {
          "output_type": "execute_result",
          "data": {
            "text/plain": [
              "np.float64(0.9913333333333334)"
            ]
          },
          "metadata": {},
          "execution_count": 16
        }
      ],
      "source": [
        "#multiclass case\n",
        "from sklearn.datasets import load_iris\n",
        "X, y = load_iris(return_X_y=True)\n",
        "clf = LogisticRegression(solver=\"liblinear\").fit(X, y)\n",
        "roc_auc_score(y, clf.predict_proba(X), multi_class='ovr')"
      ]
    },
    {
      "cell_type": "code",
      "execution_count": null,
      "id": "eedbfd13",
      "metadata": {
        "id": "eedbfd13"
      },
      "outputs": [],
      "source": [
        "import numpy as np\n",
        "import matplotlib.pyplot as plt\n",
        "from itertools import cycle\n",
        "\n",
        "from sklearn import svm, datasets\n",
        "from sklearn.metrics import roc_curve, auc\n",
        "from sklearn.model_selection import train_test_split\n",
        "from sklearn.preprocessing import label_binarize\n",
        "from sklearn.multiclass import OneVsRestClassifier\n",
        "from sklearn.metrics import roc_auc_score\n",
        "\n",
        "# Import some data to play with\n",
        "iris = datasets.load_iris()\n",
        "X = iris.data\n",
        "y = iris.target\n",
        "\n",
        "# Binarize the output\n",
        "y = label_binarize(y, classes=[0, 1, 2])\n",
        "n_classes = y.shape[1]\n",
        "\n",
        "# Add noisy features to make the problem harder\n",
        "random_state = np.random.RandomState(0)\n",
        "n_samples, n_features = X.shape\n",
        "X = np.c_[X, random_state.randn(n_samples, 200 * n_features)]\n",
        "\n",
        "# shuffle and split training and test sets\n",
        "X_train, X_test, y_train, y_test = train_test_split(X, y, test_size=0.5, random_state=0)\n",
        "\n",
        "# Learn to predict each class against the other\n",
        "classifier = OneVsRestClassifier(\n",
        "   # svm.SVC(kernel=\"linear\", probability=True, random_state=random_state)\n",
        "   svm.SVC(kernel='rbf', C=1.0, gamma=0.01, probability=True)\n",
        "\n",
        ")\n",
        "y_score = classifier.fit(X_train, y_train).decision_function(X_test)\n",
        "\n",
        "# Compute ROC curve and ROC area for each class\n",
        "fpr = dict()\n",
        "tpr = dict()\n",
        "roc_auc = dict()\n",
        "for i in range(n_classes):\n",
        "    fpr[i], tpr[i], _ = roc_curve(y_test[:, i], y_score[:, i])\n",
        "    roc_auc[i] = auc(fpr[i], tpr[i])\n",
        "\n",
        "# Compute micro-average ROC curve and ROC area\n",
        "fpr[\"micro\"], tpr[\"micro\"], _ = roc_curve(y_test.ravel(), y_score.ravel())\n",
        "roc_auc[\"micro\"] = auc(fpr[\"micro\"], tpr[\"micro\"])"
      ]
    },
    {
      "cell_type": "code",
      "execution_count": null,
      "id": "2ddd0e5a",
      "metadata": {
        "colab": {
          "base_uri": "https://localhost:8080/",
          "height": 472
        },
        "id": "2ddd0e5a",
        "outputId": "db4bd0c5-07f0-4659-f954-d034bd56299b"
      },
      "outputs": [
        {
          "output_type": "display_data",
          "data": {
            "text/plain": [
              "<Figure size 640x480 with 1 Axes>"
            ],
            "image/png": "[encoded data removed]"
          },
          "metadata": {}
        }
      ],
      "source": [
        "plt.figure()\n",
        "lw = 2\n",
        "plt.plot(\n",
        "    fpr[2],\n",
        "    tpr[2],\n",
        "    color=\"darkorange\",\n",
        "    lw=lw,\n",
        "    label=\"ROC curve (area = %0.2f)\" % roc_auc[2],\n",
        ")\n",
        "plt.plot([0, 1], [0, 1], color=\"navy\", lw=lw, linestyle=\"--\")\n",
        "plt.xlim([0.0, 1.0])\n",
        "plt.ylim([0.0, 1.05])\n",
        "plt.xlabel(\"False Positive Rate\")\n",
        "plt.ylabel(\"True Positive Rate\")\n",
        "plt.title(\"Receiver operating characteristic example\")\n",
        "plt.legend(loc=\"lower right\")\n",
        "plt.show()\n"
      ]
    },
    {
      "cell_type": "code",
      "execution_count": 1,
      "id": "7e41eee1",
      "metadata": {
        "colab": {
          "base_uri": "https://localhost:8080/"
        },
        "id": "7e41eee1",
        "outputId": "c16ca338-d6a7-4992-919a-ccc4873d75e2"
      },
      "outputs": [
        {
          "output_type": "execute_result",
          "data": {
            "text/plain": [
              "0.21616187468057912"
            ]
          },
          "metadata": {},
          "execution_count": 1
        }
      ],
      "source": [
        "from sklearn.metrics import log_loss\n",
        "log_loss([\"spam\", \"ham\", \"ham\", \"spam\"], [[.1, .9], [.9, .1], [.8, .2], [.35, .65]])"
      ]
    },
    {
      "cell_type": "markdown",
      "id": "16b6ce53",
      "metadata": {
        "id": "16b6ce53"
      },
      "source": [
        "### Regression metrics"
      ]
    },
    {
      "cell_type": "markdown",
      "id": "6fc9bb9a",
      "metadata": {
        "id": "6fc9bb9a"
      },
      "source": [
        "#### RMSE"
      ]
    },
    {
      "cell_type": "code",
      "execution_count": null,
      "id": "9f9fd060",
      "metadata": {
        "colab": {
          "base_uri": "https://localhost:8080/"
        },
        "id": "9f9fd060",
        "outputId": "13135ee4-31e1-4a6c-923d-d4bdc3e1a168"
      },
      "outputs": [
        {
          "output_type": "execute_result",
          "data": {
            "text/plain": [
              "0.375"
            ]
          },
          "metadata": {},
          "execution_count": 2
        }
      ],
      "source": [
        "from sklearn.metrics import mean_squared_error\n",
        "y_true = [3, -0.5, 2, 7]\n",
        "y_pred = [2.5, 0.0, 2, 8]\n",
        "mean_squared_error(y_true, y_pred)"
      ]
    },
    {
      "cell_type": "markdown",
      "id": "85c6cde4",
      "metadata": {
        "id": "85c6cde4"
      },
      "source": [
        "#### MAE"
      ]
    },
    {
      "cell_type": "code",
      "execution_count": null,
      "id": "5088b749",
      "metadata": {
        "colab": {
          "base_uri": "https://localhost:8080/"
        },
        "id": "5088b749",
        "outputId": "010deb60-95ce-4dc8-f8cf-cfae2cdf9ff2"
      },
      "outputs": [
        {
          "output_type": "execute_result",
          "data": {
            "text/plain": [
              "0.5"
            ]
          },
          "metadata": {},
          "execution_count": 20
        }
      ],
      "source": [
        "from sklearn.metrics import mean_absolute_error\n",
        "y_true = [3, -0.5, 2, 7]\n",
        "y_pred = [2.5, 0.0, 2, 8]\n",
        "mean_absolute_error(y_true, y_pred)"
      ]
    },
    {
      "cell_type": "markdown",
      "id": "bc79151d",
      "metadata": {
        "id": "bc79151d"
      },
      "source": [
        "#### r squared"
      ]
    },
    {
      "cell_type": "code",
      "execution_count": null,
      "id": "81859e49",
      "metadata": {
        "colab": {
          "base_uri": "https://localhost:8080/"
        },
        "id": "81859e49",
        "outputId": "f648e30b-a132-4586-82eb-d4051cc341ef"
      },
      "outputs": [
        {
          "output_type": "execute_result",
          "data": {
            "text/plain": [
              "0.9486081370449679"
            ]
          },
          "metadata": {},
          "execution_count": 21
        }
      ],
      "source": [
        "from sklearn.metrics import r2_score\n",
        "\n",
        "r2_score(y_true, y_pred)"
      ]
    },
    {
      "cell_type": "code",
      "execution_count": 2,
      "id": "b44679f0",
      "metadata": {
        "colab": {
          "base_uri": "https://localhost:8080/",
          "height": 1000
        },
        "id": "b44679f0",
        "outputId": "94b1be6a-735a-40c4-8640-87a649f380e7"
      },
      "outputs": [
        {
          "output_type": "display_data",
          "data": {
            "text/plain": [
              "<Figure size 640x480 with 2 Axes>"
            ],
            "image/png": "[encoded data removed]"
          },
          "metadata": {}
        },
        {
          "output_type": "stream",
          "name": "stdout",
          "text": [
            "\n",
            "Classification Report:\n",
            "              precision    recall  f1-score   support\n",
            "\n",
            "           0       1.00      0.92      0.96        12\n",
            "           1       0.93      1.00      0.96        13\n",
            "\n",
            "    accuracy                           0.96        25\n",
            "   macro avg       0.96      0.96      0.96        25\n",
            "weighted avg       0.96      0.96      0.96        25\n",
            "\n"
          ]
        },
        {
          "output_type": "display_data",
          "data": {
            "text/plain": [
              "<Figure size 640x480 with 1 Axes>"
            ],
            "image/png": "[encoded data removed]"
          },
          "metadata": {}
        }
      ],
      "source": [
        "# Importing the required plotting library\n",
        "import matplotlib.pyplot as plt\n",
        "\n",
        "# Importing tools to generate a synthetic classification dataset\n",
        "from sklearn.datasets import make_classification\n",
        "\n",
        "# Importing confusion matrix and classification report tools\n",
        "from sklearn.metrics import confusion_matrix, ConfusionMatrixDisplay, classification_report, roc_curve, auc\n",
        "\n",
        "# Importing train-test split utility\n",
        "from sklearn.model_selection import train_test_split\n",
        "\n",
        "# Importing the Support Vector Classifier\n",
        "from sklearn.svm import SVC\n",
        "\n",
        "# Step 1: Generate a synthetic binary classification dataset\n",
        "X, y = make_classification(random_state=0, n_classes=2, n_clusters_per_class=1)\n",
        "\n",
        "# Step 2: Split dataset into training and testing sets (75% train, 25% test by default)\n",
        "X_train, X_test, y_train, y_test = train_test_split(X, y, random_state=0)\n",
        "\n",
        "# Step 3: Instantiate the Support Vector Classifier with probability enabled for ROC\n",
        "clf = SVC(kernel='rbf', C=1.0, gamma=0.01, probability=True)\n",
        "\n",
        "\n",
        "# Step 4: Train the classifier on the training data\n",
        "clf.fit(X_train, y_train)\n",
        "\n",
        "# Step 5: Predict the labels for the test set\n",
        "predictions = clf.predict(X_test)\n",
        "\n",
        "# Step 6: Generate the confusion matrix\n",
        "cm = confusion_matrix(y_test, predictions, labels=clf.classes_)\n",
        "\n",
        "# Step 7: Create a ConfusionMatrixDisplay object for visualization\n",
        "disp = ConfusionMatrixDisplay(confusion_matrix=cm,\n",
        "                              display_labels=clf.classes_)\n",
        "\n",
        "# Step 8: Display the confusion matrix as a plot\n",
        "disp.plot()\n",
        "plt.title(\"Confusion Matrix\")\n",
        "plt.show()\n",
        "\n",
        "# Step 9: Print classification report\n",
        "print(\"\\nClassification Report:\")\n",
        "print(classification_report(y_test, predictions))\n",
        "\n",
        "# Step 10: Plot ROC Curve\n",
        "probs = clf.predict_proba(X_test)\n",
        "roc_auc = auc(*roc_curve(y_test, probs[:, 1])[:2])\n",
        "fpr, tpr, _ = roc_curve(y_test, probs[:, 1])\n",
        "\n",
        "plt.figure()\n",
        "plt.plot(fpr, tpr, color='darkorange', lw=2, label='ROC curve (area = %0.2f)' % roc_auc)\n",
        "plt.plot([0, 1], [0, 1], color='navy', lw=2, linestyle='--')\n",
        "plt.xlim([0.0, 1.0])\n",
        "plt.ylim([0.0, 1.05])\n",
        "plt.xlabel('False Positive Rate')\n",
        "plt.ylabel('True Positive Rate')\n",
        "plt.title('Receiver Operating Characteristic')\n",
        "plt.legend(loc=\"lower right\")\n",
        "plt.show()\n"
      ]
    },
    {
      "cell_type": "code",
      "execution_count": null,
      "id": "cf642c15",
      "metadata": {
        "id": "cf642c15"
      },
      "outputs": [],
      "source": []
    }
  ],
  "metadata": {
    "kernelspec": {
      "display_name": "Python 3 (ipykernel)",
      "language": "python",
      "name": "python3"
    },
    "language_info": {
      "codemirror_mode": {
        "name": "ipython",
        "version": 3
      },
      "file_extension": ".py",
      "mimetype": "text/x-python",
      "name": "python",
      "nbconvert_exporter": "python",
      "pygments_lexer": "ipython3",
      "version": "3.12.7"
    },
    "colab": {
      "provenance": [],
      "include_colab_link": true
    }
  },
  "nbformat": 4,
  "nbformat_minor": 5
}