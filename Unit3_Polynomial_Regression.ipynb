{
 "cells": [
  {
   "cell_type": "markdown",
   "id": "63e01edc",
   "metadata": {},
   "source": [
    "# Unit 3: Polynomial Regression\n",
    "\n",
    "This notebook explores how polynomial regression can be used to model non-linear relationships in data, particularly between engine size and CO₂ emissions."
   ]
  },
  {
   "cell_type": "code",
   "execution_count": null,
   "id": "ae36ce4e",
   "metadata": {},
   "outputs": [],
   "source": [
    "import pandas as pd\n",
    "import numpy as np\n",
    "import matplotlib.pyplot as plt\n",
    "from sklearn.linear_model import LinearRegression\n",
    "from sklearn.preprocessing import PolynomialFeatures\n",
    "from sklearn.metrics import r2_score\n",
    "from sklearn.model_selection import train_test_split"
   ]
  },
  {
   "cell_type": "code",
   "execution_count": null,
   "id": "30e39177",
   "metadata": {},
   "outputs": [],
   "source": [
    "# Load dataset (make sure cars.csv is in the same directory)\n",
    "df = pd.read_csv('cars.csv')\n",
    "df[['Volume', 'CO2']].head()"
   ]
  },
  {
   "cell_type": "code",
   "execution_count": null,
   "id": "470ba179",
   "metadata": {},
   "outputs": [],
   "source": [
    "# Select feature and target\n",
    "X = df[['Volume']].values\n",
    "y = df['CO2'].values\n",
    "\n",
    "# Split the data\n",
    "X_train, X_test, y_train, y_test = train_test_split(X, y, test_size=0.3, random_state=0)\n",
    "\n",
    "# Create polynomial features (degree 2)\n",
    "poly = PolynomialFeatures(degree=2)\n",
    "X_poly_train = poly.fit_transform(X_train)\n",
    "X_poly_test = poly.transform(X_test)\n",
    "\n",
    "# Fit the model\n",
    "model = LinearRegression()\n",
    "model.fit(X_poly_train, y_train)\n",
    "\n",
    "# Predict and evaluate\n",
    "y_pred = model.predict(X_poly_test)\n",
    "print(\"R² Score:\", r2_score(y_test, y_pred))"
   ]
  },
  {
   "cell_type": "code",
   "execution_count": null,
   "id": "577d5dea",
   "metadata": {},
   "outputs": [],
   "source": [
    "# Visualize results\n",
    "plt.scatter(X_test, y_test, color='blue', label='Actual')\n",
    "plt.scatter(X_test, y_pred, color='red', label='Predicted')\n",
    "plt.xlabel('Engine Volume')\n",
    "plt.ylabel('CO2 Emissions')\n",
    "plt.title('Polynomial Regression (Degree 2)')\n",
    "plt.legend()\n",
    "plt.grid(True)\n",
    "plt.show()"
   ]
  },
  {
   "cell_type": "markdown",
   "id": "ad7bf3c4",
   "metadata": {},
   "source": [
    "## 🧠 Reflection\n",
    "\n",
    "- **What?** Applied polynomial regression to capture curvature in the relationship between engine volume and emissions.\n",
    "- **So What?** Non-linear models like this can better fit real-world data that does not follow a straight-line trend.\n",
    "- **What Next?** Consider experimenting with higher-degree polynomials or regularization to reduce overfitting."
   ]
  }
 ],
 "metadata": {},
 "nbformat": 4,
 "nbformat_minor": 5
}
