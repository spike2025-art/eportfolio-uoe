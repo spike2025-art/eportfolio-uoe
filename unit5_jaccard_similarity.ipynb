{
 "cells": [
  {
   "cell_type": "markdown",
   "id": "d97256dd",
   "metadata": {},
   "source": [
    "# Unit 5: Jaccard Coefficient Calculations\n",
    "This notebook demonstrates how to calculate the Jaccard similarity coefficient between patients based on binary conversion of medical test results."
   ]
  },
  {
   "cell_type": "code",
   "execution_count": null,
   "id": "08372249",
   "metadata": {},
   "outputs": [],
   "source": [
    "import pandas as pd\n",
    "\n",
    "# Original data\n",
    "data = {\n",
    "    'Name': ['Jack', 'Mary', 'Jim'],\n",
    "    'Gender': ['M', 'F', 'M'],\n",
    "    'Fever': ['Y', 'Y', 'Y'],\n",
    "    'Cough': ['N', 'N', 'P'],\n",
    "    'Test-1': ['P', 'P', 'N'],\n",
    "    'Test-2': ['N', 'A', 'N'],\n",
    "    'Test-3': ['N', 'P', 'N'],\n",
    "    'Test-4': ['A', 'N', 'A']\n",
    "}\n",
    "\n",
    "df = pd.DataFrame(data)\n",
    "\n",
    "# Convert to binary as instructed (Y & P = 1, N & A = 0), ignore Gender\n",
    "binary_df = df.copy()\n",
    "for col in ['Fever', 'Cough', 'Test-1', 'Test-2', 'Test-3', 'Test-4']:\n",
    "    binary_df[col] = binary_df[col].replace({'Y': 1, 'P': 1, 'N': 0, 'A': 0})\n",
    "\n",
    "binary_df.set_index('Name', inplace=True)\n",
    "binary_df.drop(columns='Gender', inplace=True)\n",
    "binary_df"
   ]
  },
  {
   "cell_type": "code",
   "execution_count": null,
   "id": "fc39557b",
   "metadata": {},
   "outputs": [],
   "source": [
    "# Jaccard similarity function\n",
    "def jaccard_similarity(row1, row2):\n",
    "    f11 = ((row1 == 1) & (row2 == 1)).sum()\n",
    "    f10 = ((row1 == 1) & (row2 == 0)).sum()\n",
    "    f01 = ((row1 == 0) & (row2 == 1)).sum()\n",
    "    return f11 / (f01 + f10 + f11)\n",
    "\n",
    "# Compute for all pairs\n",
    "jack = binary_df.loc['Jack']\n",
    "mary = binary_df.loc['Mary']\n",
    "jim = binary_df.loc['Jim']\n",
    "\n",
    "jm = jaccard_similarity(jack, mary)\n",
    "jj = jaccard_similarity(jack, jim)\n",
    "mj = jaccard_similarity(jim, mary)\n",
    "\n",
    "print(f\"Jaccard(Jack, Mary) = {jm:.2f}\")\n",
    "print(f\"Jaccard(Jack, Jim) = {jj:.2f}\")\n",
    "print(f\"Jaccard(Jim, Mary) = {mj:.2f}\")"
   ]
  },
  {
   "cell_type": "markdown",
   "id": "a77b0ac4",
   "metadata": {},
   "source": [
    "### ✅ Results\n",
    "- **Jaccard(Jack, Mary)** = 0.33\n",
    "- **Jaccard(Jack, Jim)** = 0.67\n",
    "- **Jaccard(Jim, Mary)** = 0.75\n",
    "\n",
    "This confirms the binary similarity measure based on symptom and test agreement among the individuals."
   ]
  }
 ],
 "metadata": {},
 "nbformat": 4,
 "nbformat_minor": 5
}
