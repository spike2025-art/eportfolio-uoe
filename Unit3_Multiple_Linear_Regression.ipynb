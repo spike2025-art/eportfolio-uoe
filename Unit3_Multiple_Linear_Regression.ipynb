{
 "cells": [
  {
   "cell_type": "markdown",
   "id": "42f33aa6",
   "metadata": {},
   "source": [
    "# 📘 Multiple Linear Regression\n",
    "Using `cars.csv` to predict CO₂ emissions based on multiple features."
   ]
  },
  {
   "cell_type": "markdown",
   "id": "c4acefb5",
   "metadata": {},
   "source": [
    "### 🔍 Objective\n",
    "Fit a multiple linear regression model using the following features:\n",
    "- Engine Volume\n",
    "- Number of Cylinders\n",
    "- Fuel Consumption (mpg)\n",
    "\n",
    "Target: **CO2 Emissions**"
   ]
  },
  {
   "cell_type": "code",
   "execution_count": null,
   "id": "50385cb3",
   "metadata": {},
   "outputs": [],
   "source": [
    "import pandas as pd\n",
    "from sklearn.linear_model import LinearRegression\n",
    "from sklearn.model_selection import train_test_split\n",
    "from sklearn.metrics import r2_score\n",
    "\n",
    "# Load dataset\n",
    "df = pd.read_csv(\"cars.csv\")\n",
    "df.head()"
   ]
  },
  {
   "cell_type": "code",
   "execution_count": null,
   "id": "d1d71144",
   "metadata": {},
   "outputs": [],
   "source": [
    "# Define features and target\n",
    "X = df[['Volume', 'Cylinders', 'Fuel Consumption Comb (mpg)']]\n",
    "y = df['CO2']\n",
    "\n",
    "# Split the data\n",
    "X_train, X_test, y_train, y_test = train_test_split(X, y, test_size=0.3, random_state=0)\n",
    "\n",
    "# Train the model\n",
    "model = LinearRegression()\n",
    "model.fit(X_train, y_train)\n",
    "\n",
    "# Output coefficients\n",
    "print(\"Intercept:\", model.intercept_)\n",
    "print(\"Coefficients:\")\n",
    "for name, coef in zip(X.columns, model.coef_):\n",
    "    print(f\"  {name}: {coef:.2f}\")"
   ]
  },
  {
   "cell_type": "code",
   "execution_count": null,
   "id": "e2f93b38",
   "metadata": {},
   "outputs": [],
   "source": [
    "# Predict and evaluate\n",
    "y_pred = model.predict(X_test)\n",
    "r2 = r2_score(y_test, y_pred)\n",
    "print(f\"R² Score: {r2:.3f}\")"
   ]
  },
  {
   "cell_type": "markdown",
   "id": "cf268931",
   "metadata": {},
   "source": [
    "### 📊 Results & Reflection\n",
    "- **R² Score**: Indicates the proportion of variance in CO₂ emissions explained by the model.\n",
    "- **Coefficients**: Show the influence of each feature.\n",
    "\n",
    "**Next Steps:** Try adding categorical variables like `Fuel Type`, and use regularization (e.g., Ridge or Lasso) for robustness."
   ]
  }
 ],
 "metadata": {},
 "nbformat": 4,
 "nbformat_minor": 5
}
