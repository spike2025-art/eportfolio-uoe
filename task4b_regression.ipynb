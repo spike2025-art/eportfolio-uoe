{
 "cells": [
  {
   "cell_type": "markdown",
   "id": "587445df",
   "metadata": {},
   "source": [
    "# Task B: Linear Regression on Population and GDP (2001–2020)\n",
    "Using linear regression to model the relationship between average population and GDP per capita."
   ]
  },
  {
   "cell_type": "code",
   "execution_count": null,
   "id": "9dd4a356",
   "metadata": {},
   "outputs": [],
   "source": [
    "import pandas as pd\n",
    "import numpy as np\n",
    "import matplotlib.pyplot as plt\n",
    "from sklearn.linear_model import LinearRegression\n",
    "from scipy.stats import pearsonr"
   ]
  },
  {
   "cell_type": "code",
   "execution_count": null,
   "id": "ee35b488",
   "metadata": {},
   "outputs": [],
   "source": [
    "# Load data\n",
    "gdp_df = pd.read_csv('Unit04 Global_GDP.csv')\n",
    "pop_df = pd.read_csv('Unit04 Global_Population.csv')\n",
    "year_range = [str(year) for year in range(2001, 2021)]\n",
    "\n",
    "# Convert to numeric and fill missing with row mean\n",
    "for year in year_range:\n",
    "    gdp_df[year] = pd.to_numeric(gdp_df[year], errors='coerce')\n",
    "    pop_df[year] = pd.to_numeric(pop_df[year], errors='coerce')\n",
    "\n",
    "gdp_df[year_range] = gdp_df[year_range].apply(lambda row: row.fillna(row.mean()), axis=1)\n",
    "pop_df[year_range] = pop_df[year_range].apply(lambda row: row.fillna(row.mean()), axis=1)\n",
    "\n",
    "gdp_df['Mean_GDP_per_capita'] = gdp_df[year_range].mean(axis=1)\n",
    "pop_df['Mean_Population'] = pop_df[year_range].mean(axis=1)"
   ]
  },
  {
   "cell_type": "code",
   "execution_count": null,
   "id": "2fefcabd",
   "metadata": {},
   "outputs": [],
   "source": [
    "merged = pd.merge(pop_df[['Country Name', 'Mean_Population']],\n",
    "                  gdp_df[['Country Name', 'Mean_GDP_per_capita']],\n",
    "                  on='Country Name')\n",
    "merged = merged.replace([np.inf, -np.inf], np.nan).dropna()\n",
    "\n",
    "X = merged[['Mean_Population']]\n",
    "y = merged['Mean_GDP_per_capita']\n",
    "model = LinearRegression().fit(X, y)\n",
    "r2 = model.score(X, y)\n",
    "slope = model.coef_[0]\n",
    "intercept = model.intercept_\n",
    "print(f'Regression Coefficient: {slope:.4f}')\n",
    "print(f'Intercept: {intercept:.4f}')\n",
    "print(f'R² Score: {r2:.4f}')"
   ]
  },
  {
   "cell_type": "code",
   "execution_count": null,
   "id": "b71c32ab",
   "metadata": {},
   "outputs": [],
   "source": [
    "plt.figure(figsize=(10, 6))\n",
    "plt.scatter(X, y, alpha=0.6, label='Data')\n",
    "plt.plot(X, model.predict(X), color='red', label='Regression Line')\n",
    "plt.xlabel('Mean Population (2001–2020)')\n",
    "plt.ylabel('Mean GDP per Capita (2001–2020)')\n",
    "plt.title('Task B: Linear Regression - Population vs GDP')\n",
    "plt.legend()\n",
    "plt.grid(True)\n",
    "plt.tight_layout()\n",
    "plt.show()"
   ]
  }
 ],
 "metadata": {},
 "nbformat": 4,
 "nbformat_minor": 5
}