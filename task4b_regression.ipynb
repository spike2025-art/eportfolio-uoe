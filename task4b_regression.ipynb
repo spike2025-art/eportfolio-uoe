{
 "cells": [
  {
   "cell_type": "markdown",
   "id": "587445df",
   "metadata": {},
   "source": [
    "# Task B: Linear Regression on Population and GDP (2001–2020)\n",
    "Using linear regression to model the relationship between average population and GDP per capita."
   ]
  },
  {
   "cell_type": "code",
   "execution_count": null,
   "id": "9dd4a356",
   "metadata": {},
   "outputs": [],
   "source": [
    "import pandas as pd\n",
    "import numpy as np\n",
    "import matplotlib.pyplot as plt\n",
    "from sklearn.linear_model import LinearRegression\n",
    "from scipy.stats import pearsonr"
   ]
  },
  {
   "cell_type": "code",
   "execution_count": null,
   "id": "ee35b488",
   "metadata": {},
   "outputs": [],
   "source": [
    "# Load data directly from GitHub\n",
    "gdp_url = \"https://raw.githubusercontent.com/spike2025-art/eportfolio-uoe/main/Unit04%20Global_GDP.csv\"\n",
    "pop_url = \"https://raw.githubusercontent.com/spike2025-art/eportfolio-uoe/main/Unit04%20Global_Population.csv\"\n",
    "\n",
    "gdp_df = pd.read_csv(gdp_url)\n",
    "pop_df = pd.read_csv(pop_url)\n",
    "year_range = [str(year) for year in range(2001, 2021)]\n"
   ]
  },
  {
   "cell_type": "code",
   "execution_count": null,
   "id": "2fefcabd",
   "metadata": {},
   "outputs": [],
   "source": [
    "merged = pd.merge(pop_df[['Country Name', 'Mean_Population']],\n",
    "                  gdp_df[['Country Name', 'Mean_GDP_per_capita']],\n",
    "                  on='Country Name')\n",
    "merged = merged.replace([np.inf, -np.inf], np.nan).dropna()\n",
    "\n",
    "X = merged[['Mean_Population']]\n",
    "y = merged['Mean_GDP_per_capita']\n",
    "model = LinearRegression().fit(X, y)\n",
    "r2 = model.score(X, y)\n",
    "slope = model.coef_[0]\n",
    "intercept = model.intercept_\n",
    "print(f'Regression Coefficient: {slope:.4f}')\n",
    "print(f'Intercept: {intercept:.4f}')\n",
    "print(f'R² Score: {r2:.4f}')"
   ]
  },
  {
   "cell_type": "code",
   "execution_count": null,
   "id": "b71c32ab",
   "metadata": {},
   "outputs": [],
   "source": [
    "plt.figure(figsize=(10, 6))\n",
    "plt.scatter(X, y, alpha=0.6, label='Data')\n",
    "plt.plot(X, model.predict(X), color='red', label='Regression Line')\n",
    "plt.xlabel('Mean Population (2001–2020)')\n",
    "plt.ylabel('Mean GDP per Capita (2001–2020)')\n",
    "plt.title('Task B: Linear Regression - Population vs GDP')\n",
    "plt.legend()\n",
    "plt.grid(True)\n",
    "plt.tight_layout()\n",
    "plt.show()"
   ]
  }
 ],
 "metadata": {},
 "nbformat": 4,
 "nbformat_minor": 5
}
